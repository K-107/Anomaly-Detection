{
  "nbformat": 4,
  "nbformat_minor": 0,
  "metadata": {
    "colab": {
      "name": "PatchCore.ipynb",
      "provenance": [],
      "mount_file_id": "1vaFWPGgElzWZhvaefR1xRSd7vZsa0cH1",
      "authorship_tag": "ABX9TyOVkmnhO+6/gfnS+imgpqnF",
      "include_colab_link": true
    },
    "kernelspec": {
      "name": "python3",
      "display_name": "Python 3"
    },
    "language_info": {
      "name": "python"
    },
    "accelerator": "GPU"
  },
  "cells": [
    {
      "cell_type": "markdown",
      "metadata": {
        "id": "view-in-github",
        "colab_type": "text"
      },
      "source": [
        "<a href=\"https://colab.research.google.com/github/K-107/Anomaly-Detection/blob/main/PatchCore.ipynb\" target=\"_parent\"><img src=\"https://colab.research.google.com/assets/colab-badge.svg\" alt=\"Open In Colab\"/></a>"
      ]
    },
    {
      "cell_type": "markdown",
      "metadata": {
        "id": "okbm_rBFp7Fl"
      },
      "source": [
        "# PatchCore 논문\n",
        "\n",
        "https://arxiv.org/abs/2106.08265\n",
        "\n",
        "# PatchCore Unofficial code\n",
        "\n",
        "https://github.com/hcw-00/PatchCore_anomaly_detection\n",
        "\n",
        "에러 퇴치에 도움을 준 사이트\n",
        "\n",
        "https://pythonrepo.com/repo/hcw-00-PatchCore_anomaly_detection\n",
        "\n",
        "https://github.com/facebookresearch/d2go/issues/71\n",
        "\n",
        "https://github.com/pytorch/vision/issues/4156\n",
        "\n",
        "# a branch for industry\n",
        "\n",
        "https://github.com/dhkdnduq/PatchCore_anomaly_detection"
      ]
    },
    {
      "cell_type": "code",
      "metadata": {
        "colab": {
          "base_uri": "https://localhost:8080/"
        },
        "id": "1FE5Owtu347M",
        "outputId": "d44956dd-3386-48ea-b7fd-593babf78054"
      },
      "source": [
        "!pwd"
      ],
      "execution_count": null,
      "outputs": [
        {
          "output_type": "stream",
          "name": "stdout",
          "text": [
            "/content/PatchCore_anomaly_detection\n"
          ]
        }
      ]
    },
    {
      "cell_type": "code",
      "metadata": {
        "id": "ZWG1VTD-4Cl5"
      },
      "source": [
        "# !rm -rf datasets"
      ],
      "execution_count": null,
      "outputs": []
    },
    {
      "cell_type": "code",
      "metadata": {
        "colab": {
          "base_uri": "https://localhost:8080/"
        },
        "id": "h3dptKP_ZsUq",
        "outputId": "0d2d3eb6-1b3f-4bde-8934-da4bf71a68cb"
      },
      "source": [
        "! git clone https://github.com/dhkdnduq/PatchCore_anomaly_detection.git"
      ],
      "execution_count": null,
      "outputs": [
        {
          "output_type": "stream",
          "name": "stdout",
          "text": [
            "Cloning into 'PatchCore_anomaly_detection'...\n",
            "remote: Enumerating objects: 286, done.\u001b[K\n",
            "remote: Counting objects: 100% (31/31), done.\u001b[K\n",
            "remote: Compressing objects: 100% (29/29), done.\u001b[K\n",
            "remote: Total 286 (delta 17), reused 3 (delta 2), pack-reused 255\u001b[K\n",
            "Receiving objects: 100% (286/286), 103.91 MiB | 23.34 MiB/s, done.\n",
            "Resolving deltas: 100% (116/116), done.\n"
          ]
        }
      ]
    },
    {
      "cell_type": "code",
      "metadata": {
        "colab": {
          "base_uri": "https://localhost:8080/"
        },
        "id": "7uc7rg8rZ8GQ",
        "outputId": "cc083fe0-c2d6-4d8d-b3bc-3342771f09dd"
      },
      "source": [
        "%cd /content/PatchCore_anomaly_detection"
      ],
      "execution_count": null,
      "outputs": [
        {
          "output_type": "stream",
          "name": "stdout",
          "text": [
            "/content/PatchCore_anomaly_detection\n"
          ]
        }
      ]
    },
    {
      "cell_type": "code",
      "metadata": {
        "colab": {
          "base_uri": "https://localhost:8080/"
        },
        "id": "wX5hOs3fZ8Dr",
        "outputId": "075289ae-ff60-49e8-c69e-8f623168be75"
      },
      "source": [
        "!pip install -r requirements.txt"
      ],
      "execution_count": null,
      "outputs": [
        {
          "output_type": "stream",
          "name": "stdout",
          "text": [
            "Collecting opencv-python==4.5.2.52\n",
            "  Downloading opencv_python-4.5.2.52-cp37-cp37m-manylinux2014_x86_64.whl (51.0 MB)\n",
            "\u001b[K     |████████████████████████████████| 51.0 MB 55 kB/s \n",
            "\u001b[?25hCollecting scikit-learn==0.24.2\n",
            "  Downloading scikit_learn-0.24.2-cp37-cp37m-manylinux2010_x86_64.whl (22.3 MB)\n",
            "\u001b[K     |████████████████████████████████| 22.3 MB 46.6 MB/s \n",
            "\u001b[?25hCollecting pytorch-lightning==1.3.3\n",
            "  Downloading pytorch_lightning-1.3.3-py3-none-any.whl (806 kB)\n",
            "\u001b[K     |████████████████████████████████| 806 kB 44.7 MB/s \n",
            "\u001b[?25hRequirement already satisfied: numpy>=1.14.5 in /usr/local/lib/python3.7/dist-packages (from opencv-python==4.5.2.52->-r requirements.txt (line 1)) (1.19.5)\n",
            "Requirement already satisfied: joblib>=0.11 in /usr/local/lib/python3.7/dist-packages (from scikit-learn==0.24.2->-r requirements.txt (line 2)) (1.0.1)\n",
            "Requirement already satisfied: scipy>=0.19.1 in /usr/local/lib/python3.7/dist-packages (from scikit-learn==0.24.2->-r requirements.txt (line 2)) (1.4.1)\n",
            "Collecting threadpoolctl>=2.0.0\n",
            "  Downloading threadpoolctl-3.0.0-py3-none-any.whl (14 kB)\n",
            "Collecting torchmetrics>=0.2.0\n",
            "  Downloading torchmetrics-0.5.1-py3-none-any.whl (282 kB)\n",
            "\u001b[K     |████████████████████████████████| 282 kB 42.4 MB/s \n",
            "\u001b[?25hCollecting fsspec[http]>=2021.4.0\n",
            "  Downloading fsspec-2021.10.0-py3-none-any.whl (125 kB)\n",
            "\u001b[K     |████████████████████████████████| 125 kB 48.1 MB/s \n",
            "\u001b[?25hCollecting pyDeprecate==0.3.0\n",
            "  Downloading pyDeprecate-0.3.0-py3-none-any.whl (10 kB)\n",
            "Collecting future>=0.17.1\n",
            "  Downloading future-0.18.2.tar.gz (829 kB)\n",
            "\u001b[K     |████████████████████████████████| 829 kB 25.7 MB/s \n",
            "\u001b[?25hRequirement already satisfied: torch>=1.4 in /usr/local/lib/python3.7/dist-packages (from pytorch-lightning==1.3.3->-r requirements.txt (line 3)) (1.9.0+cu111)\n",
            "Collecting PyYAML<=5.4.1,>=5.1\n",
            "  Downloading PyYAML-5.4.1-cp37-cp37m-manylinux1_x86_64.whl (636 kB)\n",
            "\u001b[K     |████████████████████████████████| 636 kB 34.3 MB/s \n",
            "\u001b[?25hRequirement already satisfied: packaging in /usr/local/lib/python3.7/dist-packages (from pytorch-lightning==1.3.3->-r requirements.txt (line 3)) (21.0)\n",
            "Requirement already satisfied: tqdm>=4.41.0 in /usr/local/lib/python3.7/dist-packages (from pytorch-lightning==1.3.3->-r requirements.txt (line 3)) (4.62.3)\n",
            "Requirement already satisfied: tensorboard!=2.5.0,>=2.2.0 in /usr/local/lib/python3.7/dist-packages (from pytorch-lightning==1.3.3->-r requirements.txt (line 3)) (2.6.0)\n",
            "Requirement already satisfied: requests in /usr/local/lib/python3.7/dist-packages (from fsspec[http]>=2021.4.0->pytorch-lightning==1.3.3->-r requirements.txt (line 3)) (2.23.0)\n",
            "Collecting aiohttp\n",
            "  Downloading aiohttp-3.7.4.post0-cp37-cp37m-manylinux2014_x86_64.whl (1.3 MB)\n",
            "\u001b[K     |████████████████████████████████| 1.3 MB 38.6 MB/s \n",
            "\u001b[?25hRequirement already satisfied: markdown>=2.6.8 in /usr/local/lib/python3.7/dist-packages (from tensorboard!=2.5.0,>=2.2.0->pytorch-lightning==1.3.3->-r requirements.txt (line 3)) (3.3.4)\n",
            "Requirement already satisfied: protobuf>=3.6.0 in /usr/local/lib/python3.7/dist-packages (from tensorboard!=2.5.0,>=2.2.0->pytorch-lightning==1.3.3->-r requirements.txt (line 3)) (3.17.3)\n",
            "Requirement already satisfied: grpcio>=1.24.3 in /usr/local/lib/python3.7/dist-packages (from tensorboard!=2.5.0,>=2.2.0->pytorch-lightning==1.3.3->-r requirements.txt (line 3)) (1.41.0)\n",
            "Requirement already satisfied: setuptools>=41.0.0 in /usr/local/lib/python3.7/dist-packages (from tensorboard!=2.5.0,>=2.2.0->pytorch-lightning==1.3.3->-r requirements.txt (line 3)) (57.4.0)\n",
            "Requirement already satisfied: wheel>=0.26 in /usr/local/lib/python3.7/dist-packages (from tensorboard!=2.5.0,>=2.2.0->pytorch-lightning==1.3.3->-r requirements.txt (line 3)) (0.37.0)\n",
            "Requirement already satisfied: google-auth<2,>=1.6.3 in /usr/local/lib/python3.7/dist-packages (from tensorboard!=2.5.0,>=2.2.0->pytorch-lightning==1.3.3->-r requirements.txt (line 3)) (1.35.0)\n",
            "Requirement already satisfied: werkzeug>=0.11.15 in /usr/local/lib/python3.7/dist-packages (from tensorboard!=2.5.0,>=2.2.0->pytorch-lightning==1.3.3->-r requirements.txt (line 3)) (1.0.1)\n",
            "Requirement already satisfied: tensorboard-plugin-wit>=1.6.0 in /usr/local/lib/python3.7/dist-packages (from tensorboard!=2.5.0,>=2.2.0->pytorch-lightning==1.3.3->-r requirements.txt (line 3)) (1.8.0)\n",
            "Requirement already satisfied: google-auth-oauthlib<0.5,>=0.4.1 in /usr/local/lib/python3.7/dist-packages (from tensorboard!=2.5.0,>=2.2.0->pytorch-lightning==1.3.3->-r requirements.txt (line 3)) (0.4.6)\n",
            "Requirement already satisfied: absl-py>=0.4 in /usr/local/lib/python3.7/dist-packages (from tensorboard!=2.5.0,>=2.2.0->pytorch-lightning==1.3.3->-r requirements.txt (line 3)) (0.12.0)\n",
            "Requirement already satisfied: tensorboard-data-server<0.7.0,>=0.6.0 in /usr/local/lib/python3.7/dist-packages (from tensorboard!=2.5.0,>=2.2.0->pytorch-lightning==1.3.3->-r requirements.txt (line 3)) (0.6.1)\n",
            "Requirement already satisfied: six in /usr/local/lib/python3.7/dist-packages (from absl-py>=0.4->tensorboard!=2.5.0,>=2.2.0->pytorch-lightning==1.3.3->-r requirements.txt (line 3)) (1.15.0)\n",
            "Requirement already satisfied: pyasn1-modules>=0.2.1 in /usr/local/lib/python3.7/dist-packages (from google-auth<2,>=1.6.3->tensorboard!=2.5.0,>=2.2.0->pytorch-lightning==1.3.3->-r requirements.txt (line 3)) (0.2.8)\n",
            "Requirement already satisfied: rsa<5,>=3.1.4 in /usr/local/lib/python3.7/dist-packages (from google-auth<2,>=1.6.3->tensorboard!=2.5.0,>=2.2.0->pytorch-lightning==1.3.3->-r requirements.txt (line 3)) (4.7.2)\n",
            "Requirement already satisfied: cachetools<5.0,>=2.0.0 in /usr/local/lib/python3.7/dist-packages (from google-auth<2,>=1.6.3->tensorboard!=2.5.0,>=2.2.0->pytorch-lightning==1.3.3->-r requirements.txt (line 3)) (4.2.4)\n",
            "Requirement already satisfied: requests-oauthlib>=0.7.0 in /usr/local/lib/python3.7/dist-packages (from google-auth-oauthlib<0.5,>=0.4.1->tensorboard!=2.5.0,>=2.2.0->pytorch-lightning==1.3.3->-r requirements.txt (line 3)) (1.3.0)\n",
            "Requirement already satisfied: importlib-metadata in /usr/local/lib/python3.7/dist-packages (from markdown>=2.6.8->tensorboard!=2.5.0,>=2.2.0->pytorch-lightning==1.3.3->-r requirements.txt (line 3)) (4.8.1)\n",
            "Requirement already satisfied: pyasn1<0.5.0,>=0.4.6 in /usr/local/lib/python3.7/dist-packages (from pyasn1-modules>=0.2.1->google-auth<2,>=1.6.3->tensorboard!=2.5.0,>=2.2.0->pytorch-lightning==1.3.3->-r requirements.txt (line 3)) (0.4.8)\n",
            "Requirement already satisfied: urllib3!=1.25.0,!=1.25.1,<1.26,>=1.21.1 in /usr/local/lib/python3.7/dist-packages (from requests->fsspec[http]>=2021.4.0->pytorch-lightning==1.3.3->-r requirements.txt (line 3)) (1.24.3)\n",
            "Requirement already satisfied: idna<3,>=2.5 in /usr/local/lib/python3.7/dist-packages (from requests->fsspec[http]>=2021.4.0->pytorch-lightning==1.3.3->-r requirements.txt (line 3)) (2.10)\n",
            "Requirement already satisfied: certifi>=2017.4.17 in /usr/local/lib/python3.7/dist-packages (from requests->fsspec[http]>=2021.4.0->pytorch-lightning==1.3.3->-r requirements.txt (line 3)) (2021.5.30)\n",
            "Requirement already satisfied: chardet<4,>=3.0.2 in /usr/local/lib/python3.7/dist-packages (from requests->fsspec[http]>=2021.4.0->pytorch-lightning==1.3.3->-r requirements.txt (line 3)) (3.0.4)\n",
            "Requirement already satisfied: oauthlib>=3.0.0 in /usr/local/lib/python3.7/dist-packages (from requests-oauthlib>=0.7.0->google-auth-oauthlib<0.5,>=0.4.1->tensorboard!=2.5.0,>=2.2.0->pytorch-lightning==1.3.3->-r requirements.txt (line 3)) (3.1.1)\n",
            "Requirement already satisfied: typing-extensions in /usr/local/lib/python3.7/dist-packages (from torch>=1.4->pytorch-lightning==1.3.3->-r requirements.txt (line 3)) (3.7.4.3)\n",
            "Collecting async-timeout<4.0,>=3.0\n",
            "  Downloading async_timeout-3.0.1-py3-none-any.whl (8.2 kB)\n",
            "Requirement already satisfied: attrs>=17.3.0 in /usr/local/lib/python3.7/dist-packages (from aiohttp->fsspec[http]>=2021.4.0->pytorch-lightning==1.3.3->-r requirements.txt (line 3)) (21.2.0)\n",
            "Collecting yarl<2.0,>=1.0\n",
            "  Downloading yarl-1.7.0-cp37-cp37m-manylinux_2_5_x86_64.manylinux1_x86_64.manylinux_2_12_x86_64.manylinux2010_x86_64.whl (271 kB)\n",
            "\u001b[K     |████████████████████████████████| 271 kB 41.5 MB/s \n",
            "\u001b[?25hCollecting multidict<7.0,>=4.5\n",
            "  Downloading multidict-5.2.0-cp37-cp37m-manylinux_2_5_x86_64.manylinux1_x86_64.manylinux_2_12_x86_64.manylinux2010_x86_64.whl (160 kB)\n",
            "\u001b[K     |████████████████████████████████| 160 kB 47.1 MB/s \n",
            "\u001b[?25hRequirement already satisfied: zipp>=0.5 in /usr/local/lib/python3.7/dist-packages (from importlib-metadata->markdown>=2.6.8->tensorboard!=2.5.0,>=2.2.0->pytorch-lightning==1.3.3->-r requirements.txt (line 3)) (3.6.0)\n",
            "Requirement already satisfied: pyparsing>=2.0.2 in /usr/local/lib/python3.7/dist-packages (from packaging->pytorch-lightning==1.3.3->-r requirements.txt (line 3)) (2.4.7)\n",
            "Building wheels for collected packages: future\n",
            "  Building wheel for future (setup.py) ... \u001b[?25l\u001b[?25hdone\n",
            "  Created wheel for future: filename=future-0.18.2-py3-none-any.whl size=491070 sha256=9a815f2942f128e8e60898f3329df0b73a9b5fd4ade705c944e1f2618cced8e4\n",
            "  Stored in directory: /root/.cache/pip/wheels/56/b0/fe/4410d17b32f1f0c3cf54cdfb2bc04d7b4b8f4ae377e2229ba0\n",
            "Successfully built future\n",
            "Installing collected packages: multidict, yarl, async-timeout, fsspec, aiohttp, torchmetrics, threadpoolctl, PyYAML, pyDeprecate, future, scikit-learn, pytorch-lightning, opencv-python\n",
            "  Attempting uninstall: PyYAML\n",
            "    Found existing installation: PyYAML 3.13\n",
            "    Uninstalling PyYAML-3.13:\n",
            "      Successfully uninstalled PyYAML-3.13\n",
            "  Attempting uninstall: future\n",
            "    Found existing installation: future 0.16.0\n",
            "    Uninstalling future-0.16.0:\n",
            "      Successfully uninstalled future-0.16.0\n",
            "  Attempting uninstall: scikit-learn\n",
            "    Found existing installation: scikit-learn 0.22.2.post1\n",
            "    Uninstalling scikit-learn-0.22.2.post1:\n",
            "      Successfully uninstalled scikit-learn-0.22.2.post1\n",
            "  Attempting uninstall: opencv-python\n",
            "    Found existing installation: opencv-python 4.1.2.30\n",
            "    Uninstalling opencv-python-4.1.2.30:\n",
            "      Successfully uninstalled opencv-python-4.1.2.30\n",
            "\u001b[31mERROR: pip's dependency resolver does not currently take into account all the packages that are installed. This behaviour is the source of the following dependency conflicts.\n",
            "albumentations 0.1.12 requires imgaug<0.2.7,>=0.2.5, but you have imgaug 0.2.9 which is incompatible.\u001b[0m\n",
            "Successfully installed PyYAML-5.4.1 aiohttp-3.7.4.post0 async-timeout-3.0.1 fsspec-2021.10.0 future-0.18.2 multidict-5.2.0 opencv-python-4.5.2.52 pyDeprecate-0.3.0 pytorch-lightning-1.3.3 scikit-learn-0.24.2 threadpoolctl-3.0.0 torchmetrics-0.5.1 yarl-1.7.0\n"
          ]
        }
      ]
    },
    {
      "cell_type": "code",
      "metadata": {
        "id": "SIhzjb0jZ8BP"
      },
      "source": [
        "!mkdir datasets"
      ],
      "execution_count": null,
      "outputs": []
    },
    {
      "cell_type": "code",
      "metadata": {
        "colab": {
          "base_uri": "https://localhost:8080/"
        },
        "id": "6tJjwOjlZ78O",
        "outputId": "7242d68f-8bf4-448e-8646-93b2d4742d0b"
      },
      "source": [
        "%cd /content/drive/MyDrive/patchcore"
      ],
      "execution_count": null,
      "outputs": [
        {
          "output_type": "stream",
          "name": "stdout",
          "text": [
            "/content/drive/MyDrive/patchcore\n"
          ]
        }
      ]
    },
    {
      "cell_type": "code",
      "metadata": {
        "colab": {
          "base_uri": "https://localhost:8080/"
        },
        "id": "JIbBCOSkrvM0",
        "outputId": "e6bb17e7-abf7-45d0-a208-1df2b7b14645"
      },
      "source": [
        "! unzip leather.zip -d /content/drive/MyDrive/patchcore/leather"
      ],
      "execution_count": null,
      "outputs": [
        {
          "output_type": "stream",
          "name": "stdout",
          "text": [
            "Archive:  leather.zip\n",
            "replace /content/drive/MyDrive/patchcore/leather/ground_truth/color/000_mask.png? [y]es, [n]o, [A]ll, [N]one, [r]ename: "
          ]
        }
      ]
    },
    {
      "cell_type": "code",
      "metadata": {
        "colab": {
          "base_uri": "https://localhost:8080/"
        },
        "id": "QnWGBPihZ75k",
        "outputId": "baee7b29-4f78-4aa7-8c3f-916c684a1cf8"
      },
      "source": [
        "! unzip leather_industry.zip -d /content/PatchCore_anomaly_detection/datasets"
      ],
      "execution_count": null,
      "outputs": [
        {
          "output_type": "stream",
          "name": "stdout",
          "text": [
            "Archive:  leather_industry.zip\n",
            "   creating: /content/PatchCore_anomaly_detection/datasets/ground_truth/\n",
            "   creating: /content/PatchCore_anomaly_detection/datasets/ground_truth/color/\n",
            "  inflating: /content/PatchCore_anomaly_detection/datasets/ground_truth/color/000_mask.png  \n",
            "  inflating: /content/PatchCore_anomaly_detection/datasets/ground_truth/color/001_mask.png  \n",
            "  inflating: /content/PatchCore_anomaly_detection/datasets/ground_truth/color/002_mask.png  \n",
            "  inflating: /content/PatchCore_anomaly_detection/datasets/ground_truth/color/003_mask.png  \n",
            "  inflating: /content/PatchCore_anomaly_detection/datasets/ground_truth/color/004_mask.png  \n",
            "  inflating: /content/PatchCore_anomaly_detection/datasets/ground_truth/color/005_mask.png  \n",
            "  inflating: /content/PatchCore_anomaly_detection/datasets/ground_truth/color/006_mask.png  \n",
            "  inflating: /content/PatchCore_anomaly_detection/datasets/ground_truth/color/007_mask.png  \n",
            "  inflating: /content/PatchCore_anomaly_detection/datasets/ground_truth/color/008_mask.png  \n",
            "  inflating: /content/PatchCore_anomaly_detection/datasets/ground_truth/color/009_mask.png  \n",
            "  inflating: /content/PatchCore_anomaly_detection/datasets/ground_truth/color/010_mask.png  \n",
            "  inflating: /content/PatchCore_anomaly_detection/datasets/ground_truth/color/011_mask.png  \n",
            "  inflating: /content/PatchCore_anomaly_detection/datasets/ground_truth/color/012_mask.png  \n",
            "  inflating: /content/PatchCore_anomaly_detection/datasets/ground_truth/color/013_mask.png  \n",
            "  inflating: /content/PatchCore_anomaly_detection/datasets/ground_truth/color/014_mask.png  \n",
            "  inflating: /content/PatchCore_anomaly_detection/datasets/ground_truth/color/015_mask.png  \n",
            "  inflating: /content/PatchCore_anomaly_detection/datasets/ground_truth/color/016_mask.png  \n",
            "  inflating: /content/PatchCore_anomaly_detection/datasets/ground_truth/color/017_mask.png  \n",
            "  inflating: /content/PatchCore_anomaly_detection/datasets/ground_truth/color/018_mask.png  \n",
            "   creating: /content/PatchCore_anomaly_detection/datasets/ground_truth/cut/\n",
            "  inflating: /content/PatchCore_anomaly_detection/datasets/ground_truth/cut/000_mask.png  \n",
            "  inflating: /content/PatchCore_anomaly_detection/datasets/ground_truth/cut/001_mask.png  \n",
            "  inflating: /content/PatchCore_anomaly_detection/datasets/ground_truth/cut/002_mask.png  \n",
            "  inflating: /content/PatchCore_anomaly_detection/datasets/ground_truth/cut/003_mask.png  \n",
            "  inflating: /content/PatchCore_anomaly_detection/datasets/ground_truth/cut/004_mask.png  \n",
            "  inflating: /content/PatchCore_anomaly_detection/datasets/ground_truth/cut/005_mask.png  \n",
            "  inflating: /content/PatchCore_anomaly_detection/datasets/ground_truth/cut/006_mask.png  \n",
            "  inflating: /content/PatchCore_anomaly_detection/datasets/ground_truth/cut/007_mask.png  \n",
            "  inflating: /content/PatchCore_anomaly_detection/datasets/ground_truth/cut/008_mask.png  \n",
            "  inflating: /content/PatchCore_anomaly_detection/datasets/ground_truth/cut/009_mask.png  \n",
            "  inflating: /content/PatchCore_anomaly_detection/datasets/ground_truth/cut/010_mask.png  \n",
            "  inflating: /content/PatchCore_anomaly_detection/datasets/ground_truth/cut/011_mask.png  \n",
            "  inflating: /content/PatchCore_anomaly_detection/datasets/ground_truth/cut/012_mask.png  \n",
            "  inflating: /content/PatchCore_anomaly_detection/datasets/ground_truth/cut/013_mask.png  \n",
            "  inflating: /content/PatchCore_anomaly_detection/datasets/ground_truth/cut/014_mask.png  \n",
            "  inflating: /content/PatchCore_anomaly_detection/datasets/ground_truth/cut/015_mask.png  \n",
            "  inflating: /content/PatchCore_anomaly_detection/datasets/ground_truth/cut/016_mask.png  \n",
            "  inflating: /content/PatchCore_anomaly_detection/datasets/ground_truth/cut/017_mask.png  \n",
            "  inflating: /content/PatchCore_anomaly_detection/datasets/ground_truth/cut/018_mask.png  \n",
            "   creating: /content/PatchCore_anomaly_detection/datasets/ground_truth/fold/\n",
            "  inflating: /content/PatchCore_anomaly_detection/datasets/ground_truth/fold/000_mask.png  \n",
            "  inflating: /content/PatchCore_anomaly_detection/datasets/ground_truth/fold/001_mask.png  \n",
            "  inflating: /content/PatchCore_anomaly_detection/datasets/ground_truth/fold/002_mask.png  \n",
            "  inflating: /content/PatchCore_anomaly_detection/datasets/ground_truth/fold/003_mask.png  \n",
            "  inflating: /content/PatchCore_anomaly_detection/datasets/ground_truth/fold/004_mask.png  \n",
            "  inflating: /content/PatchCore_anomaly_detection/datasets/ground_truth/fold/005_mask.png  \n",
            "  inflating: /content/PatchCore_anomaly_detection/datasets/ground_truth/fold/006_mask.png  \n",
            "  inflating: /content/PatchCore_anomaly_detection/datasets/ground_truth/fold/007_mask.png  \n",
            "  inflating: /content/PatchCore_anomaly_detection/datasets/ground_truth/fold/008_mask.png  \n",
            "  inflating: /content/PatchCore_anomaly_detection/datasets/ground_truth/fold/009_mask.png  \n",
            "  inflating: /content/PatchCore_anomaly_detection/datasets/ground_truth/fold/010_mask.png  \n",
            "  inflating: /content/PatchCore_anomaly_detection/datasets/ground_truth/fold/011_mask.png  \n",
            "  inflating: /content/PatchCore_anomaly_detection/datasets/ground_truth/fold/012_mask.png  \n",
            "  inflating: /content/PatchCore_anomaly_detection/datasets/ground_truth/fold/013_mask.png  \n",
            "  inflating: /content/PatchCore_anomaly_detection/datasets/ground_truth/fold/014_mask.png  \n",
            "  inflating: /content/PatchCore_anomaly_detection/datasets/ground_truth/fold/015_mask.png  \n",
            "  inflating: /content/PatchCore_anomaly_detection/datasets/ground_truth/fold/016_mask.png  \n",
            "   creating: /content/PatchCore_anomaly_detection/datasets/ground_truth/glue/\n",
            "  inflating: /content/PatchCore_anomaly_detection/datasets/ground_truth/glue/000_mask.png  \n",
            "  inflating: /content/PatchCore_anomaly_detection/datasets/ground_truth/glue/001_mask.png  \n",
            "  inflating: /content/PatchCore_anomaly_detection/datasets/ground_truth/glue/002_mask.png  \n",
            "  inflating: /content/PatchCore_anomaly_detection/datasets/ground_truth/glue/003_mask.png  \n",
            "  inflating: /content/PatchCore_anomaly_detection/datasets/ground_truth/glue/004_mask.png  \n",
            "  inflating: /content/PatchCore_anomaly_detection/datasets/ground_truth/glue/005_mask.png  \n",
            "  inflating: /content/PatchCore_anomaly_detection/datasets/ground_truth/glue/006_mask.png  \n",
            "  inflating: /content/PatchCore_anomaly_detection/datasets/ground_truth/glue/007_mask.png  \n",
            "  inflating: /content/PatchCore_anomaly_detection/datasets/ground_truth/glue/008_mask.png  \n",
            "  inflating: /content/PatchCore_anomaly_detection/datasets/ground_truth/glue/009_mask.png  \n",
            "  inflating: /content/PatchCore_anomaly_detection/datasets/ground_truth/glue/010_mask.png  \n",
            "  inflating: /content/PatchCore_anomaly_detection/datasets/ground_truth/glue/011_mask.png  \n",
            "  inflating: /content/PatchCore_anomaly_detection/datasets/ground_truth/glue/012_mask.png  \n",
            "  inflating: /content/PatchCore_anomaly_detection/datasets/ground_truth/glue/013_mask.png  \n",
            "  inflating: /content/PatchCore_anomaly_detection/datasets/ground_truth/glue/014_mask.png  \n",
            "  inflating: /content/PatchCore_anomaly_detection/datasets/ground_truth/glue/015_mask.png  \n",
            "  inflating: /content/PatchCore_anomaly_detection/datasets/ground_truth/glue/016_mask.png  \n",
            "  inflating: /content/PatchCore_anomaly_detection/datasets/ground_truth/glue/017_mask.png  \n",
            "  inflating: /content/PatchCore_anomaly_detection/datasets/ground_truth/glue/018_mask.png  \n",
            "   creating: /content/PatchCore_anomaly_detection/datasets/ground_truth/poke/\n",
            "  inflating: /content/PatchCore_anomaly_detection/datasets/ground_truth/poke/000_mask.png  \n",
            "  inflating: /content/PatchCore_anomaly_detection/datasets/ground_truth/poke/001_mask.png  \n",
            "  inflating: /content/PatchCore_anomaly_detection/datasets/ground_truth/poke/002_mask.png  \n",
            "  inflating: /content/PatchCore_anomaly_detection/datasets/ground_truth/poke/003_mask.png  \n",
            "  inflating: /content/PatchCore_anomaly_detection/datasets/ground_truth/poke/004_mask.png  \n",
            "  inflating: /content/PatchCore_anomaly_detection/datasets/ground_truth/poke/005_mask.png  \n",
            "  inflating: /content/PatchCore_anomaly_detection/datasets/ground_truth/poke/006_mask.png  \n",
            "  inflating: /content/PatchCore_anomaly_detection/datasets/ground_truth/poke/007_mask.png  \n",
            "  inflating: /content/PatchCore_anomaly_detection/datasets/ground_truth/poke/008_mask.png  \n",
            "  inflating: /content/PatchCore_anomaly_detection/datasets/ground_truth/poke/009_mask.png  \n",
            "  inflating: /content/PatchCore_anomaly_detection/datasets/ground_truth/poke/010_mask.png  \n",
            "  inflating: /content/PatchCore_anomaly_detection/datasets/ground_truth/poke/011_mask.png  \n",
            "  inflating: /content/PatchCore_anomaly_detection/datasets/ground_truth/poke/012_mask.png  \n",
            "  inflating: /content/PatchCore_anomaly_detection/datasets/ground_truth/poke/013_mask.png  \n",
            "  inflating: /content/PatchCore_anomaly_detection/datasets/ground_truth/poke/014_mask.png  \n",
            "  inflating: /content/PatchCore_anomaly_detection/datasets/ground_truth/poke/015_mask.png  \n",
            "  inflating: /content/PatchCore_anomaly_detection/datasets/ground_truth/poke/016_mask.png  \n",
            "  inflating: /content/PatchCore_anomaly_detection/datasets/ground_truth/poke/017_mask.png  \n",
            "  inflating: /content/PatchCore_anomaly_detection/datasets/license.txt  \n",
            "  inflating: /content/PatchCore_anomaly_detection/datasets/readme.txt  \n",
            "   creating: /content/PatchCore_anomaly_detection/datasets/test/\n",
            "   creating: /content/PatchCore_anomaly_detection/datasets/test/good/\n",
            "  inflating: /content/PatchCore_anomaly_detection/datasets/test/good/000.png  \n",
            "  inflating: /content/PatchCore_anomaly_detection/datasets/test/good/001.png  \n",
            "  inflating: /content/PatchCore_anomaly_detection/datasets/test/good/002.png  \n",
            "  inflating: /content/PatchCore_anomaly_detection/datasets/test/good/003.png  \n",
            "  inflating: /content/PatchCore_anomaly_detection/datasets/test/good/004.png  \n",
            "  inflating: /content/PatchCore_anomaly_detection/datasets/test/good/005.png  \n",
            "  inflating: /content/PatchCore_anomaly_detection/datasets/test/good/006.png  \n",
            "  inflating: /content/PatchCore_anomaly_detection/datasets/test/good/007.png  \n",
            "  inflating: /content/PatchCore_anomaly_detection/datasets/test/good/008.png  \n",
            "  inflating: /content/PatchCore_anomaly_detection/datasets/test/good/009.png  \n",
            "  inflating: /content/PatchCore_anomaly_detection/datasets/test/good/010.png  \n",
            "  inflating: /content/PatchCore_anomaly_detection/datasets/test/good/011.png  \n",
            "  inflating: /content/PatchCore_anomaly_detection/datasets/test/good/012.png  \n",
            "  inflating: /content/PatchCore_anomaly_detection/datasets/test/good/013.png  \n",
            "  inflating: /content/PatchCore_anomaly_detection/datasets/test/good/014.png  \n",
            "  inflating: /content/PatchCore_anomaly_detection/datasets/test/good/015.png  \n",
            "  inflating: /content/PatchCore_anomaly_detection/datasets/test/good/016.png  \n",
            "  inflating: /content/PatchCore_anomaly_detection/datasets/test/good/017.png  \n",
            "  inflating: /content/PatchCore_anomaly_detection/datasets/test/good/018.png  \n",
            "  inflating: /content/PatchCore_anomaly_detection/datasets/test/good/019.png  \n",
            "  inflating: /content/PatchCore_anomaly_detection/datasets/test/good/020.png  \n",
            "  inflating: /content/PatchCore_anomaly_detection/datasets/test/good/021.png  \n",
            "  inflating: /content/PatchCore_anomaly_detection/datasets/test/good/022.png  \n",
            "  inflating: /content/PatchCore_anomaly_detection/datasets/test/good/023.png  \n",
            "  inflating: /content/PatchCore_anomaly_detection/datasets/test/good/024.png  \n",
            "  inflating: /content/PatchCore_anomaly_detection/datasets/test/good/025.png  \n",
            "  inflating: /content/PatchCore_anomaly_detection/datasets/test/good/026.png  \n",
            "  inflating: /content/PatchCore_anomaly_detection/datasets/test/good/027.png  \n",
            "  inflating: /content/PatchCore_anomaly_detection/datasets/test/good/028.png  \n",
            "  inflating: /content/PatchCore_anomaly_detection/datasets/test/good/029.png  \n",
            "  inflating: /content/PatchCore_anomaly_detection/datasets/test/good/030.png  \n",
            "  inflating: /content/PatchCore_anomaly_detection/datasets/test/good/031.png  \n",
            "   creating: /content/PatchCore_anomaly_detection/datasets/test/ng/\n",
            "  inflating: /content/PatchCore_anomaly_detection/datasets/test/ng/000 (2).png  \n",
            "  inflating: /content/PatchCore_anomaly_detection/datasets/test/ng/000 (3).png  \n",
            "  inflating: /content/PatchCore_anomaly_detection/datasets/test/ng/000 (4).png  \n",
            "  inflating: /content/PatchCore_anomaly_detection/datasets/test/ng/000 (5).png  \n",
            "  inflating: /content/PatchCore_anomaly_detection/datasets/test/ng/000.png  \n",
            "  inflating: /content/PatchCore_anomaly_detection/datasets/test/ng/0000.png  \n",
            "  inflating: /content/PatchCore_anomaly_detection/datasets/test/ng/001 (2).png  \n",
            "  inflating: /content/PatchCore_anomaly_detection/datasets/test/ng/001 (3).png  \n",
            "  inflating: /content/PatchCore_anomaly_detection/datasets/test/ng/001 (4).png  \n",
            "  inflating: /content/PatchCore_anomaly_detection/datasets/test/ng/001 (5).png  \n",
            "  inflating: /content/PatchCore_anomaly_detection/datasets/test/ng/001.png  \n",
            "  inflating: /content/PatchCore_anomaly_detection/datasets/test/ng/002 (2).png  \n",
            "  inflating: /content/PatchCore_anomaly_detection/datasets/test/ng/002 (3).png  \n",
            "  inflating: /content/PatchCore_anomaly_detection/datasets/test/ng/002 (4).png  \n",
            "  inflating: /content/PatchCore_anomaly_detection/datasets/test/ng/002 (5).png  \n",
            "  inflating: /content/PatchCore_anomaly_detection/datasets/test/ng/002.png  \n",
            "  inflating: /content/PatchCore_anomaly_detection/datasets/test/ng/003 (2).png  \n",
            "  inflating: /content/PatchCore_anomaly_detection/datasets/test/ng/003 (3).png  \n",
            "  inflating: /content/PatchCore_anomaly_detection/datasets/test/ng/003 (4).png  \n",
            "  inflating: /content/PatchCore_anomaly_detection/datasets/test/ng/003 (5).png  \n",
            "  inflating: /content/PatchCore_anomaly_detection/datasets/test/ng/003.png  \n",
            "  inflating: /content/PatchCore_anomaly_detection/datasets/test/ng/004 (2).png  \n",
            "  inflating: /content/PatchCore_anomaly_detection/datasets/test/ng/004 (3).png  \n",
            "  inflating: /content/PatchCore_anomaly_detection/datasets/test/ng/004 (4).png  \n",
            "  inflating: /content/PatchCore_anomaly_detection/datasets/test/ng/004 (5).png  \n",
            "  inflating: /content/PatchCore_anomaly_detection/datasets/test/ng/004.png  \n",
            "  inflating: /content/PatchCore_anomaly_detection/datasets/test/ng/005 (2).png  \n",
            "  inflating: /content/PatchCore_anomaly_detection/datasets/test/ng/005 (3).png  \n",
            "  inflating: /content/PatchCore_anomaly_detection/datasets/test/ng/005 (4).png  \n",
            "  inflating: /content/PatchCore_anomaly_detection/datasets/test/ng/005 (5).png  \n",
            "  inflating: /content/PatchCore_anomaly_detection/datasets/test/ng/005.png  \n",
            "  inflating: /content/PatchCore_anomaly_detection/datasets/test/ng/006 (2).png  \n",
            "  inflating: /content/PatchCore_anomaly_detection/datasets/test/ng/006 (3).png  \n",
            "  inflating: /content/PatchCore_anomaly_detection/datasets/test/ng/006 (4).png  \n",
            "  inflating: /content/PatchCore_anomaly_detection/datasets/test/ng/006 (5).png  \n",
            "  inflating: /content/PatchCore_anomaly_detection/datasets/test/ng/006.png  \n",
            "  inflating: /content/PatchCore_anomaly_detection/datasets/test/ng/007 (2).png  \n",
            "  inflating: /content/PatchCore_anomaly_detection/datasets/test/ng/007 (3).png  \n",
            "  inflating: /content/PatchCore_anomaly_detection/datasets/test/ng/007 (4).png  \n",
            "  inflating: /content/PatchCore_anomaly_detection/datasets/test/ng/007 (5).png  \n",
            "  inflating: /content/PatchCore_anomaly_detection/datasets/test/ng/007.png  \n",
            "  inflating: /content/PatchCore_anomaly_detection/datasets/test/ng/008 (2).png  \n",
            "  inflating: /content/PatchCore_anomaly_detection/datasets/test/ng/008 (3).png  \n",
            "  inflating: /content/PatchCore_anomaly_detection/datasets/test/ng/008 (4).png  \n",
            "  inflating: /content/PatchCore_anomaly_detection/datasets/test/ng/008 (5).png  \n",
            "  inflating: /content/PatchCore_anomaly_detection/datasets/test/ng/008.png  \n",
            "  inflating: /content/PatchCore_anomaly_detection/datasets/test/ng/009 (2).png  \n",
            "  inflating: /content/PatchCore_anomaly_detection/datasets/test/ng/009 (3).png  \n",
            "  inflating: /content/PatchCore_anomaly_detection/datasets/test/ng/009 (4).png  \n",
            "  inflating: /content/PatchCore_anomaly_detection/datasets/test/ng/009 (5).png  \n",
            "  inflating: /content/PatchCore_anomaly_detection/datasets/test/ng/009.png  \n",
            "  inflating: /content/PatchCore_anomaly_detection/datasets/test/ng/010 (2).png  \n",
            "  inflating: /content/PatchCore_anomaly_detection/datasets/test/ng/010 (3).png  \n",
            "  inflating: /content/PatchCore_anomaly_detection/datasets/test/ng/010 (4).png  \n",
            "  inflating: /content/PatchCore_anomaly_detection/datasets/test/ng/010 (5).png  \n",
            "  inflating: /content/PatchCore_anomaly_detection/datasets/test/ng/010.png  \n",
            "  inflating: /content/PatchCore_anomaly_detection/datasets/test/ng/011 (2).png  \n",
            "  inflating: /content/PatchCore_anomaly_detection/datasets/test/ng/011 (3).png  \n",
            "  inflating: /content/PatchCore_anomaly_detection/datasets/test/ng/011 (4).png  \n",
            "  inflating: /content/PatchCore_anomaly_detection/datasets/test/ng/011 (5).png  \n",
            "  inflating: /content/PatchCore_anomaly_detection/datasets/test/ng/011.png  \n",
            "  inflating: /content/PatchCore_anomaly_detection/datasets/test/ng/012 (2).png  \n",
            "  inflating: /content/PatchCore_anomaly_detection/datasets/test/ng/012 (3).png  \n",
            "  inflating: /content/PatchCore_anomaly_detection/datasets/test/ng/012 (4).png  \n",
            "  inflating: /content/PatchCore_anomaly_detection/datasets/test/ng/012 (5).png  \n",
            "  inflating: /content/PatchCore_anomaly_detection/datasets/test/ng/012.png  \n",
            "  inflating: /content/PatchCore_anomaly_detection/datasets/test/ng/013 (2).png  \n",
            "  inflating: /content/PatchCore_anomaly_detection/datasets/test/ng/013 (3).png  \n",
            "  inflating: /content/PatchCore_anomaly_detection/datasets/test/ng/013 (4).png  \n",
            "  inflating: /content/PatchCore_anomaly_detection/datasets/test/ng/013 (5).png  \n",
            "  inflating: /content/PatchCore_anomaly_detection/datasets/test/ng/013.png  \n",
            "  inflating: /content/PatchCore_anomaly_detection/datasets/test/ng/014 (2).png  \n",
            "  inflating: /content/PatchCore_anomaly_detection/datasets/test/ng/014 (3).png  \n",
            "  inflating: /content/PatchCore_anomaly_detection/datasets/test/ng/014 (4).png  \n",
            "  inflating: /content/PatchCore_anomaly_detection/datasets/test/ng/014 (5).png  \n",
            "  inflating: /content/PatchCore_anomaly_detection/datasets/test/ng/014.png  \n",
            "  inflating: /content/PatchCore_anomaly_detection/datasets/test/ng/015 (2).png  \n",
            "  inflating: /content/PatchCore_anomaly_detection/datasets/test/ng/015 (3).png  \n",
            "  inflating: /content/PatchCore_anomaly_detection/datasets/test/ng/015 (4).png  \n",
            "  inflating: /content/PatchCore_anomaly_detection/datasets/test/ng/015 (5).png  \n",
            "  inflating: /content/PatchCore_anomaly_detection/datasets/test/ng/015.png  \n",
            "  inflating: /content/PatchCore_anomaly_detection/datasets/test/ng/016 (2).png  \n",
            "  inflating: /content/PatchCore_anomaly_detection/datasets/test/ng/016 (3).png  \n",
            "  inflating: /content/PatchCore_anomaly_detection/datasets/test/ng/016 (4).png  \n",
            "  inflating: /content/PatchCore_anomaly_detection/datasets/test/ng/016 (5).png  \n",
            "  inflating: /content/PatchCore_anomaly_detection/datasets/test/ng/016.png  \n",
            "  inflating: /content/PatchCore_anomaly_detection/datasets/test/ng/017 (2).png  \n",
            "  inflating: /content/PatchCore_anomaly_detection/datasets/test/ng/017 (3).png  \n",
            "  inflating: /content/PatchCore_anomaly_detection/datasets/test/ng/017 (4).png  \n",
            "  inflating: /content/PatchCore_anomaly_detection/datasets/test/ng/017.png  \n",
            "  inflating: /content/PatchCore_anomaly_detection/datasets/test/ng/018 (2).png  \n",
            "  inflating: /content/PatchCore_anomaly_detection/datasets/test/ng/018 (3).png  \n",
            "  inflating: /content/PatchCore_anomaly_detection/datasets/test/ng/018.png  \n",
            "   creating: /content/PatchCore_anomaly_detection/datasets/train/\n",
            "   creating: /content/PatchCore_anomaly_detection/datasets/train/good/\n",
            "  inflating: /content/PatchCore_anomaly_detection/datasets/train/good/000.png  \n",
            "  inflating: /content/PatchCore_anomaly_detection/datasets/train/good/001.png  \n",
            "  inflating: /content/PatchCore_anomaly_detection/datasets/train/good/002.png  \n",
            "  inflating: /content/PatchCore_anomaly_detection/datasets/train/good/003.png  \n",
            "  inflating: /content/PatchCore_anomaly_detection/datasets/train/good/004.png  \n",
            "  inflating: /content/PatchCore_anomaly_detection/datasets/train/good/005.png  \n",
            "  inflating: /content/PatchCore_anomaly_detection/datasets/train/good/006.png  \n",
            "  inflating: /content/PatchCore_anomaly_detection/datasets/train/good/007.png  \n",
            "  inflating: /content/PatchCore_anomaly_detection/datasets/train/good/008.png  \n",
            "  inflating: /content/PatchCore_anomaly_detection/datasets/train/good/009.png  \n",
            "  inflating: /content/PatchCore_anomaly_detection/datasets/train/good/010.png  \n",
            "  inflating: /content/PatchCore_anomaly_detection/datasets/train/good/011.png  \n",
            "  inflating: /content/PatchCore_anomaly_detection/datasets/train/good/012.png  \n",
            "  inflating: /content/PatchCore_anomaly_detection/datasets/train/good/013.png  \n",
            "  inflating: /content/PatchCore_anomaly_detection/datasets/train/good/014.png  \n",
            "  inflating: /content/PatchCore_anomaly_detection/datasets/train/good/015.png  \n",
            "  inflating: /content/PatchCore_anomaly_detection/datasets/train/good/016.png  \n",
            "  inflating: /content/PatchCore_anomaly_detection/datasets/train/good/017.png  \n",
            "  inflating: /content/PatchCore_anomaly_detection/datasets/train/good/018.png  \n",
            "  inflating: /content/PatchCore_anomaly_detection/datasets/train/good/019.png  \n",
            "  inflating: /content/PatchCore_anomaly_detection/datasets/train/good/020.png  \n",
            "  inflating: /content/PatchCore_anomaly_detection/datasets/train/good/021.png  \n",
            "  inflating: /content/PatchCore_anomaly_detection/datasets/train/good/022.png  \n",
            "  inflating: /content/PatchCore_anomaly_detection/datasets/train/good/023.png  \n",
            "  inflating: /content/PatchCore_anomaly_detection/datasets/train/good/024.png  \n",
            "  inflating: /content/PatchCore_anomaly_detection/datasets/train/good/025.png  \n",
            "  inflating: /content/PatchCore_anomaly_detection/datasets/train/good/026.png  \n",
            "  inflating: /content/PatchCore_anomaly_detection/datasets/train/good/027.png  \n",
            "  inflating: /content/PatchCore_anomaly_detection/datasets/train/good/028.png  \n",
            "  inflating: /content/PatchCore_anomaly_detection/datasets/train/good/029.png  \n",
            "  inflating: /content/PatchCore_anomaly_detection/datasets/train/good/030.png  \n",
            "  inflating: /content/PatchCore_anomaly_detection/datasets/train/good/031.png  \n",
            "  inflating: /content/PatchCore_anomaly_detection/datasets/train/good/032.png  \n",
            "  inflating: /content/PatchCore_anomaly_detection/datasets/train/good/033.png  \n",
            "  inflating: /content/PatchCore_anomaly_detection/datasets/train/good/034.png  \n",
            "  inflating: /content/PatchCore_anomaly_detection/datasets/train/good/035.png  \n",
            "  inflating: /content/PatchCore_anomaly_detection/datasets/train/good/036.png  \n",
            "  inflating: /content/PatchCore_anomaly_detection/datasets/train/good/037.png  \n",
            "  inflating: /content/PatchCore_anomaly_detection/datasets/train/good/038.png  \n",
            "  inflating: /content/PatchCore_anomaly_detection/datasets/train/good/039.png  \n",
            "  inflating: /content/PatchCore_anomaly_detection/datasets/train/good/040.png  \n",
            "  inflating: /content/PatchCore_anomaly_detection/datasets/train/good/041.png  \n",
            "  inflating: /content/PatchCore_anomaly_detection/datasets/train/good/042.png  \n",
            "  inflating: /content/PatchCore_anomaly_detection/datasets/train/good/043.png  \n",
            "  inflating: /content/PatchCore_anomaly_detection/datasets/train/good/044.png  \n",
            "  inflating: /content/PatchCore_anomaly_detection/datasets/train/good/045.png  \n",
            "  inflating: /content/PatchCore_anomaly_detection/datasets/train/good/046.png  \n",
            "  inflating: /content/PatchCore_anomaly_detection/datasets/train/good/047.png  \n",
            "  inflating: /content/PatchCore_anomaly_detection/datasets/train/good/048.png  \n",
            "  inflating: /content/PatchCore_anomaly_detection/datasets/train/good/049.png  \n",
            "  inflating: /content/PatchCore_anomaly_detection/datasets/train/good/050.png  \n",
            "  inflating: /content/PatchCore_anomaly_detection/datasets/train/good/051.png  \n",
            "  inflating: /content/PatchCore_anomaly_detection/datasets/train/good/052.png  \n",
            "  inflating: /content/PatchCore_anomaly_detection/datasets/train/good/053.png  \n",
            "  inflating: /content/PatchCore_anomaly_detection/datasets/train/good/054.png  \n",
            "  inflating: /content/PatchCore_anomaly_detection/datasets/train/good/055.png  \n",
            "  inflating: /content/PatchCore_anomaly_detection/datasets/train/good/056.png  \n",
            "  inflating: /content/PatchCore_anomaly_detection/datasets/train/good/057.png  \n",
            "  inflating: /content/PatchCore_anomaly_detection/datasets/train/good/058.png  \n",
            "  inflating: /content/PatchCore_anomaly_detection/datasets/train/good/059.png  \n",
            "  inflating: /content/PatchCore_anomaly_detection/datasets/train/good/060.png  \n",
            "  inflating: /content/PatchCore_anomaly_detection/datasets/train/good/061.png  \n",
            "  inflating: /content/PatchCore_anomaly_detection/datasets/train/good/062.png  \n",
            "  inflating: /content/PatchCore_anomaly_detection/datasets/train/good/063.png  \n",
            "  inflating: /content/PatchCore_anomaly_detection/datasets/train/good/064.png  \n",
            "  inflating: /content/PatchCore_anomaly_detection/datasets/train/good/065.png  \n",
            "  inflating: /content/PatchCore_anomaly_detection/datasets/train/good/066.png  \n",
            "  inflating: /content/PatchCore_anomaly_detection/datasets/train/good/067.png  \n",
            "  inflating: /content/PatchCore_anomaly_detection/datasets/train/good/068.png  \n",
            "  inflating: /content/PatchCore_anomaly_detection/datasets/train/good/069.png  \n",
            "  inflating: /content/PatchCore_anomaly_detection/datasets/train/good/070.png  \n",
            "  inflating: /content/PatchCore_anomaly_detection/datasets/train/good/071.png  \n",
            "  inflating: /content/PatchCore_anomaly_detection/datasets/train/good/072.png  \n",
            "  inflating: /content/PatchCore_anomaly_detection/datasets/train/good/073.png  \n",
            "  inflating: /content/PatchCore_anomaly_detection/datasets/train/good/074.png  \n",
            "  inflating: /content/PatchCore_anomaly_detection/datasets/train/good/075.png  \n",
            "  inflating: /content/PatchCore_anomaly_detection/datasets/train/good/076.png  \n",
            "  inflating: /content/PatchCore_anomaly_detection/datasets/train/good/077.png  \n",
            "  inflating: /content/PatchCore_anomaly_detection/datasets/train/good/078.png  \n",
            "  inflating: /content/PatchCore_anomaly_detection/datasets/train/good/079.png  \n",
            "  inflating: /content/PatchCore_anomaly_detection/datasets/train/good/080.png  \n",
            "  inflating: /content/PatchCore_anomaly_detection/datasets/train/good/081.png  \n",
            "  inflating: /content/PatchCore_anomaly_detection/datasets/train/good/082.png  \n",
            "  inflating: /content/PatchCore_anomaly_detection/datasets/train/good/083.png  \n",
            "  inflating: /content/PatchCore_anomaly_detection/datasets/train/good/084.png  \n",
            "  inflating: /content/PatchCore_anomaly_detection/datasets/train/good/085.png  \n",
            "  inflating: /content/PatchCore_anomaly_detection/datasets/train/good/086.png  \n",
            "  inflating: /content/PatchCore_anomaly_detection/datasets/train/good/087.png  \n",
            "  inflating: /content/PatchCore_anomaly_detection/datasets/train/good/088.png  \n",
            "  inflating: /content/PatchCore_anomaly_detection/datasets/train/good/089.png  \n",
            "  inflating: /content/PatchCore_anomaly_detection/datasets/train/good/090.png  \n",
            "  inflating: /content/PatchCore_anomaly_detection/datasets/train/good/091.png  \n",
            "  inflating: /content/PatchCore_anomaly_detection/datasets/train/good/092.png  \n",
            "  inflating: /content/PatchCore_anomaly_detection/datasets/train/good/093.png  \n",
            "  inflating: /content/PatchCore_anomaly_detection/datasets/train/good/094.png  \n",
            "  inflating: /content/PatchCore_anomaly_detection/datasets/train/good/095.png  \n",
            "  inflating: /content/PatchCore_anomaly_detection/datasets/train/good/096.png  \n",
            "  inflating: /content/PatchCore_anomaly_detection/datasets/train/good/097.png  \n",
            "  inflating: /content/PatchCore_anomaly_detection/datasets/train/good/098.png  \n",
            "  inflating: /content/PatchCore_anomaly_detection/datasets/train/good/099.png  \n",
            "  inflating: /content/PatchCore_anomaly_detection/datasets/train/good/100.png  \n",
            "  inflating: /content/PatchCore_anomaly_detection/datasets/train/good/101.png  \n",
            "  inflating: /content/PatchCore_anomaly_detection/datasets/train/good/102.png  \n",
            "  inflating: /content/PatchCore_anomaly_detection/datasets/train/good/103.png  \n",
            "  inflating: /content/PatchCore_anomaly_detection/datasets/train/good/104.png  \n",
            "  inflating: /content/PatchCore_anomaly_detection/datasets/train/good/105.png  \n",
            "  inflating: /content/PatchCore_anomaly_detection/datasets/train/good/106.png  \n",
            "  inflating: /content/PatchCore_anomaly_detection/datasets/train/good/107.png  \n",
            "  inflating: /content/PatchCore_anomaly_detection/datasets/train/good/108.png  \n",
            "  inflating: /content/PatchCore_anomaly_detection/datasets/train/good/109.png  \n",
            "  inflating: /content/PatchCore_anomaly_detection/datasets/train/good/110.png  \n",
            "  inflating: /content/PatchCore_anomaly_detection/datasets/train/good/111.png  \n",
            "  inflating: /content/PatchCore_anomaly_detection/datasets/train/good/112.png  \n",
            "  inflating: /content/PatchCore_anomaly_detection/datasets/train/good/113.png  \n",
            "  inflating: /content/PatchCore_anomaly_detection/datasets/train/good/114.png  \n",
            "  inflating: /content/PatchCore_anomaly_detection/datasets/train/good/115.png  \n",
            "  inflating: /content/PatchCore_anomaly_detection/datasets/train/good/116.png  \n",
            "  inflating: /content/PatchCore_anomaly_detection/datasets/train/good/117.png  \n",
            "  inflating: /content/PatchCore_anomaly_detection/datasets/train/good/118.png  \n",
            "  inflating: /content/PatchCore_anomaly_detection/datasets/train/good/119.png  \n",
            "  inflating: /content/PatchCore_anomaly_detection/datasets/train/good/120.png  \n",
            "  inflating: /content/PatchCore_anomaly_detection/datasets/train/good/121.png  \n",
            "  inflating: /content/PatchCore_anomaly_detection/datasets/train/good/122.png  \n",
            "  inflating: /content/PatchCore_anomaly_detection/datasets/train/good/123.png  \n",
            "  inflating: /content/PatchCore_anomaly_detection/datasets/train/good/124.png  \n",
            "  inflating: /content/PatchCore_anomaly_detection/datasets/train/good/125.png  \n",
            "  inflating: /content/PatchCore_anomaly_detection/datasets/train/good/126.png  \n",
            "  inflating: /content/PatchCore_anomaly_detection/datasets/train/good/127.png  \n",
            "  inflating: /content/PatchCore_anomaly_detection/datasets/train/good/128.png  \n",
            "  inflating: /content/PatchCore_anomaly_detection/datasets/train/good/129.png  \n",
            "  inflating: /content/PatchCore_anomaly_detection/datasets/train/good/130.png  \n",
            "  inflating: /content/PatchCore_anomaly_detection/datasets/train/good/131.png  \n",
            "  inflating: /content/PatchCore_anomaly_detection/datasets/train/good/132.png  \n",
            "  inflating: /content/PatchCore_anomaly_detection/datasets/train/good/133.png  \n",
            "  inflating: /content/PatchCore_anomaly_detection/datasets/train/good/134.png  \n",
            "  inflating: /content/PatchCore_anomaly_detection/datasets/train/good/135.png  \n",
            "  inflating: /content/PatchCore_anomaly_detection/datasets/train/good/136.png  \n",
            "  inflating: /content/PatchCore_anomaly_detection/datasets/train/good/137.png  \n",
            "  inflating: /content/PatchCore_anomaly_detection/datasets/train/good/138.png  \n",
            "  inflating: /content/PatchCore_anomaly_detection/datasets/train/good/139.png  \n",
            "  inflating: /content/PatchCore_anomaly_detection/datasets/train/good/140.png  \n",
            "  inflating: /content/PatchCore_anomaly_detection/datasets/train/good/141.png  \n",
            "  inflating: /content/PatchCore_anomaly_detection/datasets/train/good/142.png  \n",
            "  inflating: /content/PatchCore_anomaly_detection/datasets/train/good/143.png  \n",
            "  inflating: /content/PatchCore_anomaly_detection/datasets/train/good/144.png  \n",
            "  inflating: /content/PatchCore_anomaly_detection/datasets/train/good/145.png  \n",
            "  inflating: /content/PatchCore_anomaly_detection/datasets/train/good/146.png  \n",
            "  inflating: /content/PatchCore_anomaly_detection/datasets/train/good/147.png  \n",
            "  inflating: /content/PatchCore_anomaly_detection/datasets/train/good/148.png  \n",
            "  inflating: /content/PatchCore_anomaly_detection/datasets/train/good/149.png  \n",
            "  inflating: /content/PatchCore_anomaly_detection/datasets/train/good/150.png  \n",
            "  inflating: /content/PatchCore_anomaly_detection/datasets/train/good/151.png  \n",
            "  inflating: /content/PatchCore_anomaly_detection/datasets/train/good/152.png  \n",
            "  inflating: /content/PatchCore_anomaly_detection/datasets/train/good/153.png  \n",
            "  inflating: /content/PatchCore_anomaly_detection/datasets/train/good/154.png  \n",
            "  inflating: /content/PatchCore_anomaly_detection/datasets/train/good/155.png  \n",
            "  inflating: /content/PatchCore_anomaly_detection/datasets/train/good/156.png  \n",
            "  inflating: /content/PatchCore_anomaly_detection/datasets/train/good/157.png  \n",
            "  inflating: /content/PatchCore_anomaly_detection/datasets/train/good/158.png  \n",
            "  inflating: /content/PatchCore_anomaly_detection/datasets/train/good/159.png  \n",
            "  inflating: /content/PatchCore_anomaly_detection/datasets/train/good/160.png  \n",
            "  inflating: /content/PatchCore_anomaly_detection/datasets/train/good/161.png  \n",
            "  inflating: /content/PatchCore_anomaly_detection/datasets/train/good/162.png  \n",
            "  inflating: /content/PatchCore_anomaly_detection/datasets/train/good/163.png  \n",
            "  inflating: /content/PatchCore_anomaly_detection/datasets/train/good/164.png  \n",
            "  inflating: /content/PatchCore_anomaly_detection/datasets/train/good/165.png  \n",
            "  inflating: /content/PatchCore_anomaly_detection/datasets/train/good/166.png  \n",
            "  inflating: /content/PatchCore_anomaly_detection/datasets/train/good/167.png  \n",
            "  inflating: /content/PatchCore_anomaly_detection/datasets/train/good/168.png  \n",
            "  inflating: /content/PatchCore_anomaly_detection/datasets/train/good/169.png  \n",
            "  inflating: /content/PatchCore_anomaly_detection/datasets/train/good/170.png  \n",
            "  inflating: /content/PatchCore_anomaly_detection/datasets/train/good/171.png  \n",
            "  inflating: /content/PatchCore_anomaly_detection/datasets/train/good/172.png  \n",
            "  inflating: /content/PatchCore_anomaly_detection/datasets/train/good/173.png  \n",
            "  inflating: /content/PatchCore_anomaly_detection/datasets/train/good/174.png  \n",
            "  inflating: /content/PatchCore_anomaly_detection/datasets/train/good/175.png  \n",
            "  inflating: /content/PatchCore_anomaly_detection/datasets/train/good/176.png  \n",
            "  inflating: /content/PatchCore_anomaly_detection/datasets/train/good/177.png  \n",
            "  inflating: /content/PatchCore_anomaly_detection/datasets/train/good/178.png  \n",
            "  inflating: /content/PatchCore_anomaly_detection/datasets/train/good/179.png  \n",
            "  inflating: /content/PatchCore_anomaly_detection/datasets/train/good/180.png  \n",
            "  inflating: /content/PatchCore_anomaly_detection/datasets/train/good/181.png  \n",
            "  inflating: /content/PatchCore_anomaly_detection/datasets/train/good/182.png  \n",
            "  inflating: /content/PatchCore_anomaly_detection/datasets/train/good/183.png  \n",
            "  inflating: /content/PatchCore_anomaly_detection/datasets/train/good/184.png  \n",
            "  inflating: /content/PatchCore_anomaly_detection/datasets/train/good/185.png  \n",
            "  inflating: /content/PatchCore_anomaly_detection/datasets/train/good/186.png  \n",
            "  inflating: /content/PatchCore_anomaly_detection/datasets/train/good/187.png  \n",
            "  inflating: /content/PatchCore_anomaly_detection/datasets/train/good/188.png  \n",
            "  inflating: /content/PatchCore_anomaly_detection/datasets/train/good/189.png  \n",
            "  inflating: /content/PatchCore_anomaly_detection/datasets/train/good/190.png  \n",
            "  inflating: /content/PatchCore_anomaly_detection/datasets/train/good/191.png  \n",
            "  inflating: /content/PatchCore_anomaly_detection/datasets/train/good/192.png  \n",
            "  inflating: /content/PatchCore_anomaly_detection/datasets/train/good/193.png  \n",
            "  inflating: /content/PatchCore_anomaly_detection/datasets/train/good/194.png  \n",
            "  inflating: /content/PatchCore_anomaly_detection/datasets/train/good/195.png  \n",
            "  inflating: /content/PatchCore_anomaly_detection/datasets/train/good/196.png  \n",
            "  inflating: /content/PatchCore_anomaly_detection/datasets/train/good/197.png  \n",
            "  inflating: /content/PatchCore_anomaly_detection/datasets/train/good/198.png  \n",
            "  inflating: /content/PatchCore_anomaly_detection/datasets/train/good/199.png  \n",
            "  inflating: /content/PatchCore_anomaly_detection/datasets/train/good/200.png  \n",
            "  inflating: /content/PatchCore_anomaly_detection/datasets/train/good/201.png  \n",
            "  inflating: /content/PatchCore_anomaly_detection/datasets/train/good/202.png  \n",
            "  inflating: /content/PatchCore_anomaly_detection/datasets/train/good/203.png  \n",
            "  inflating: /content/PatchCore_anomaly_detection/datasets/train/good/204.png  \n",
            "  inflating: /content/PatchCore_anomaly_detection/datasets/train/good/205.png  \n",
            "  inflating: /content/PatchCore_anomaly_detection/datasets/train/good/206.png  \n",
            "  inflating: /content/PatchCore_anomaly_detection/datasets/train/good/207.png  \n",
            "  inflating: /content/PatchCore_anomaly_detection/datasets/train/good/208.png  \n",
            "  inflating: /content/PatchCore_anomaly_detection/datasets/train/good/209.png  \n",
            "  inflating: /content/PatchCore_anomaly_detection/datasets/train/good/210.png  \n",
            "  inflating: /content/PatchCore_anomaly_detection/datasets/train/good/211.png  \n",
            "  inflating: /content/PatchCore_anomaly_detection/datasets/train/good/212.png  \n",
            "  inflating: /content/PatchCore_anomaly_detection/datasets/train/good/213.png  \n",
            "  inflating: /content/PatchCore_anomaly_detection/datasets/train/good/214.png  \n",
            "  inflating: /content/PatchCore_anomaly_detection/datasets/train/good/215.png  \n",
            "  inflating: /content/PatchCore_anomaly_detection/datasets/train/good/216.png  \n",
            "  inflating: /content/PatchCore_anomaly_detection/datasets/train/good/217.png  \n",
            "  inflating: /content/PatchCore_anomaly_detection/datasets/train/good/218.png  \n",
            "  inflating: /content/PatchCore_anomaly_detection/datasets/train/good/219.png  \n",
            "  inflating: /content/PatchCore_anomaly_detection/datasets/train/good/220.png  \n",
            "  inflating: /content/PatchCore_anomaly_detection/datasets/train/good/221.png  \n",
            "  inflating: /content/PatchCore_anomaly_detection/datasets/train/good/222.png  \n",
            "  inflating: /content/PatchCore_anomaly_detection/datasets/train/good/223.png  \n",
            "  inflating: /content/PatchCore_anomaly_detection/datasets/train/good/224.png  \n",
            "  inflating: /content/PatchCore_anomaly_detection/datasets/train/good/225.png  \n",
            "  inflating: /content/PatchCore_anomaly_detection/datasets/train/good/226.png  \n",
            "  inflating: /content/PatchCore_anomaly_detection/datasets/train/good/227.png  \n",
            "  inflating: /content/PatchCore_anomaly_detection/datasets/train/good/228.png  \n",
            "  inflating: /content/PatchCore_anomaly_detection/datasets/train/good/229.png  \n",
            "  inflating: /content/PatchCore_anomaly_detection/datasets/train/good/230.png  \n",
            "  inflating: /content/PatchCore_anomaly_detection/datasets/train/good/231.png  \n",
            "  inflating: /content/PatchCore_anomaly_detection/datasets/train/good/232.png  \n",
            "  inflating: /content/PatchCore_anomaly_detection/datasets/train/good/233.png  \n",
            "  inflating: /content/PatchCore_anomaly_detection/datasets/train/good/234.png  \n",
            "  inflating: /content/PatchCore_anomaly_detection/datasets/train/good/235.png  \n",
            "  inflating: /content/PatchCore_anomaly_detection/datasets/train/good/236.png  \n",
            "  inflating: /content/PatchCore_anomaly_detection/datasets/train/good/237.png  \n",
            "  inflating: /content/PatchCore_anomaly_detection/datasets/train/good/238.png  \n",
            "  inflating: /content/PatchCore_anomaly_detection/datasets/train/good/239.png  \n",
            "  inflating: /content/PatchCore_anomaly_detection/datasets/train/good/240.png  \n",
            "  inflating: /content/PatchCore_anomaly_detection/datasets/train/good/241.png  \n",
            "  inflating: /content/PatchCore_anomaly_detection/datasets/train/good/242.png  \n",
            "  inflating: /content/PatchCore_anomaly_detection/datasets/train/good/243.png  \n",
            "  inflating: /content/PatchCore_anomaly_detection/datasets/train/good/244.png  \n"
          ]
        }
      ]
    },
    {
      "cell_type": "code",
      "metadata": {
        "colab": {
          "base_uri": "https://localhost:8080/"
        },
        "id": "tcYi-lOFZ723",
        "outputId": "05a5adc3-dfe7-4ff3-ee4f-bcbc2fb96944"
      },
      "source": [
        "% cd /content/PatchCore_anomaly_detection"
      ],
      "execution_count": null,
      "outputs": [
        {
          "output_type": "stream",
          "name": "stdout",
          "text": [
            "/content/PatchCore_anomaly_detection\n"
          ]
        }
      ]
    },
    {
      "cell_type": "code",
      "metadata": {
        "colab": {
          "base_uri": "https://localhost:8080/"
        },
        "id": "qUBfVzByhpWY",
        "outputId": "f96b4792-8b92-4e98-c83f-f59c8b491fef"
      },
      "source": [
        "# !pip install torch==1.8.0"
      ],
      "execution_count": null,
      "outputs": [
        {
          "output_type": "stream",
          "name": "stdout",
          "text": [
            "Collecting torch==1.8.0\n",
            "  Downloading torch-1.8.0-cp37-cp37m-manylinux1_x86_64.whl (735.5 MB)\n",
            "\u001b[K     |████████████████████████████████| 735.5 MB 13 kB/s \n",
            "\u001b[?25hRequirement already satisfied: typing-extensions in /usr/local/lib/python3.7/dist-packages (from torch==1.8.0) (3.7.4.3)\n",
            "Requirement already satisfied: numpy in /usr/local/lib/python3.7/dist-packages (from torch==1.8.0) (1.19.5)\n",
            "Installing collected packages: torch\n",
            "  Attempting uninstall: torch\n",
            "    Found existing installation: torch 1.9.0+cu111\n",
            "    Uninstalling torch-1.9.0+cu111:\n",
            "      Successfully uninstalled torch-1.9.0+cu111\n",
            "\u001b[31mERROR: pip's dependency resolver does not currently take into account all the packages that are installed. This behaviour is the source of the following dependency conflicts.\n",
            "torchvision 0.10.0+cu111 requires torch==1.9.0, but you have torch 1.8.0 which is incompatible.\n",
            "torchtext 0.10.0 requires torch==1.9.0, but you have torch 1.8.0 which is incompatible.\u001b[0m\n",
            "Successfully installed torch-1.8.0\n"
          ]
        }
      ]
    },
    {
      "cell_type": "code",
      "metadata": {
        "colab": {
          "base_uri": "https://localhost:8080/"
        },
        "id": "jrQzqrP0hs3J",
        "outputId": "b5084d02-459f-4afa-8aac-5a9e666365db"
      },
      "source": [
        "!pip install pyyaml==5.1\n",
        "!pip install torch==1.8.1 torchvision==0.9.1 torchtext==0.9.1 -f https://download.pytorch.org/whl/cu101/torch_stable.html"
      ],
      "execution_count": null,
      "outputs": [
        {
          "output_type": "stream",
          "name": "stdout",
          "text": [
            "Collecting pyyaml==5.1\n",
            "  Downloading PyYAML-5.1.tar.gz (274 kB)\n",
            "\u001b[?25l\r\u001b[K     |█▏                              | 10 kB 22.6 MB/s eta 0:00:01\r\u001b[K     |██▍                             | 20 kB 26.0 MB/s eta 0:00:01\r\u001b[K     |███▋                            | 30 kB 12.8 MB/s eta 0:00:01\r\u001b[K     |████▉                           | 40 kB 9.9 MB/s eta 0:00:01\r\u001b[K     |██████                          | 51 kB 5.5 MB/s eta 0:00:01\r\u001b[K     |███████▏                        | 61 kB 6.0 MB/s eta 0:00:01\r\u001b[K     |████████▍                       | 71 kB 5.8 MB/s eta 0:00:01\r\u001b[K     |█████████▋                      | 81 kB 6.5 MB/s eta 0:00:01\r\u001b[K     |██████████▊                     | 92 kB 4.9 MB/s eta 0:00:01\r\u001b[K     |████████████                    | 102 kB 5.3 MB/s eta 0:00:01\r\u001b[K     |█████████████▏                  | 112 kB 5.3 MB/s eta 0:00:01\r\u001b[K     |██████████████▍                 | 122 kB 5.3 MB/s eta 0:00:01\r\u001b[K     |███████████████▌                | 133 kB 5.3 MB/s eta 0:00:01\r\u001b[K     |████████████████▊               | 143 kB 5.3 MB/s eta 0:00:01\r\u001b[K     |██████████████████              | 153 kB 5.3 MB/s eta 0:00:01\r\u001b[K     |███████████████████▏            | 163 kB 5.3 MB/s eta 0:00:01\r\u001b[K     |████████████████████▎           | 174 kB 5.3 MB/s eta 0:00:01\r\u001b[K     |█████████████████████▌          | 184 kB 5.3 MB/s eta 0:00:01\r\u001b[K     |██████████████████████▊         | 194 kB 5.3 MB/s eta 0:00:01\r\u001b[K     |████████████████████████        | 204 kB 5.3 MB/s eta 0:00:01\r\u001b[K     |█████████████████████████       | 215 kB 5.3 MB/s eta 0:00:01\r\u001b[K     |██████████████████████████▎     | 225 kB 5.3 MB/s eta 0:00:01\r\u001b[K     |███████████████████████████▌    | 235 kB 5.3 MB/s eta 0:00:01\r\u001b[K     |████████████████████████████▊   | 245 kB 5.3 MB/s eta 0:00:01\r\u001b[K     |█████████████████████████████▉  | 256 kB 5.3 MB/s eta 0:00:01\r\u001b[K     |███████████████████████████████ | 266 kB 5.3 MB/s eta 0:00:01\r\u001b[K     |████████████████████████████████| 274 kB 5.3 MB/s \n",
            "\u001b[?25hBuilding wheels for collected packages: pyyaml\n",
            "  Building wheel for pyyaml (setup.py) ... \u001b[?25l\u001b[?25hdone\n",
            "  Created wheel for pyyaml: filename=PyYAML-5.1-cp37-cp37m-linux_x86_64.whl size=44092 sha256=d51e8a5861de594317d15666ee0028912db23d1c162b65810363aa0ce1f65117\n",
            "  Stored in directory: /root/.cache/pip/wheels/77/f5/10/d00a2bd30928b972790053b5de0c703ca87324f3fead0f2fd9\n",
            "Successfully built pyyaml\n",
            "Installing collected packages: pyyaml\n",
            "  Attempting uninstall: pyyaml\n",
            "    Found existing installation: PyYAML 5.4.1\n",
            "    Uninstalling PyYAML-5.4.1:\n",
            "      Successfully uninstalled PyYAML-5.4.1\n",
            "Successfully installed pyyaml-5.1\n",
            "Looking in links: https://download.pytorch.org/whl/cu101/torch_stable.html\n",
            "Collecting torch==1.8.1\n",
            "  Downloading https://download.pytorch.org/whl/cu101/torch-1.8.1%2Bcu101-cp37-cp37m-linux_x86_64.whl (763.7 MB)\n",
            "\u001b[K     |████████████████████████████████| 763.7 MB 10 kB/s \n",
            "\u001b[?25hCollecting torchvision==0.9.1\n",
            "  Downloading https://download.pytorch.org/whl/cu101/torchvision-0.9.1%2Bcu101-cp37-cp37m-linux_x86_64.whl (17.3 MB)\n",
            "\u001b[K     |████████████████████████████████| 17.3 MB 18 kB/s \n",
            "\u001b[?25hCollecting torchtext==0.9.1\n",
            "  Downloading torchtext-0.9.1-cp37-cp37m-manylinux1_x86_64.whl (7.1 MB)\n",
            "\u001b[K     |████████████████████████████████| 7.1 MB 4.8 MB/s \n",
            "\u001b[?25hRequirement already satisfied: numpy in /usr/local/lib/python3.7/dist-packages (from torch==1.8.1) (1.19.5)\n",
            "Requirement already satisfied: typing-extensions in /usr/local/lib/python3.7/dist-packages (from torch==1.8.1) (3.7.4.3)\n",
            "Requirement already satisfied: pillow>=4.1.1 in /usr/local/lib/python3.7/dist-packages (from torchvision==0.9.1) (7.1.2)\n",
            "Requirement already satisfied: tqdm in /usr/local/lib/python3.7/dist-packages (from torchtext==0.9.1) (4.62.3)\n",
            "Requirement already satisfied: requests in /usr/local/lib/python3.7/dist-packages (from torchtext==0.9.1) (2.23.0)\n",
            "Requirement already satisfied: certifi>=2017.4.17 in /usr/local/lib/python3.7/dist-packages (from requests->torchtext==0.9.1) (2021.5.30)\n",
            "Requirement already satisfied: chardet<4,>=3.0.2 in /usr/local/lib/python3.7/dist-packages (from requests->torchtext==0.9.1) (3.0.4)\n",
            "Requirement already satisfied: urllib3!=1.25.0,!=1.25.1,<1.26,>=1.21.1 in /usr/local/lib/python3.7/dist-packages (from requests->torchtext==0.9.1) (1.24.3)\n",
            "Requirement already satisfied: idna<3,>=2.5 in /usr/local/lib/python3.7/dist-packages (from requests->torchtext==0.9.1) (2.10)\n",
            "Installing collected packages: torch, torchvision, torchtext\n",
            "  Attempting uninstall: torch\n",
            "    Found existing installation: torch 1.9.0+cu111\n",
            "    Uninstalling torch-1.9.0+cu111:\n",
            "      Successfully uninstalled torch-1.9.0+cu111\n",
            "  Attempting uninstall: torchvision\n",
            "    Found existing installation: torchvision 0.10.0+cu111\n",
            "    Uninstalling torchvision-0.10.0+cu111:\n",
            "      Successfully uninstalled torchvision-0.10.0+cu111\n",
            "  Attempting uninstall: torchtext\n",
            "    Found existing installation: torchtext 0.10.0\n",
            "    Uninstalling torchtext-0.10.0:\n",
            "      Successfully uninstalled torchtext-0.10.0\n",
            "Successfully installed torch-1.8.1+cu101 torchtext-0.9.1 torchvision-0.9.1+cu101\n"
          ]
        }
      ]
    },
    {
      "cell_type": "code",
      "metadata": {
        "colab": {
          "base_uri": "https://localhost:8080/"
        },
        "id": "wdv0ygC1mXLf",
        "outputId": "fc30b51a-e2d7-47a4-b00b-8f05f872f23e"
      },
      "source": [
        "!python train.py \\\n",
        "--phase=train \\\n",
        "--dataset_path=/content/PatchCore_anomaly_detection/datasets \\\n",
        "--category=leather \\\n",
        "--project_root_path=/content/drive/MyDrive/patchcore/projection_results \\\n",
        "--n_neighbors=9"
      ],
      "execution_count": null,
      "outputs": [
        {
          "output_type": "stream",
          "name": "stdout",
          "text": [
            "GPU available: True, used: True\n",
            "TPU available: False, using: 0 TPU cores\n",
            "Downloading: \"https://github.com/pytorch/vision/archive/v0.9.0.zip\" to /root/.cache/torch/hub/v0.9.0.zip\n",
            "Downloading: \"https://download.pytorch.org/models/wide_resnet50_2-95faca4d.pth\" to /root/.cache/torch/hub/checkpoints/wide_resnet50_2-95faca4d.pth\n",
            "100% 132M/132M [00:01<00:00, 76.7MB/s]\n",
            "/usr/local/lib/python3.7/dist-packages/torchvision/transforms/transforms.py:258: UserWarning: Argument interpolation should be of type InterpolationMode instead of int. Please, use InterpolationMode enum.\n",
            "  \"Argument interpolation should be of type InterpolationMode instead of int. \"\n",
            "LOCAL_RANK: 0 - CUDA_VISIBLE_DEVICES: [0]\n",
            "/usr/local/lib/python3.7/dist-packages/pytorch_lightning/utilities/distributed.py:69: UserWarning: `LightningModule.configure_optimizers` returned `None`, this fit will run with no optimizer\n",
            "  warnings.warn(*args, **kwargs)\n",
            "\n",
            "  | Name          | Type      | Params\n",
            "--------------------------------------------\n",
            "0 | model         | ResNet    | 68.9 M\n",
            "1 | criterion     | MSELoss   | 0     \n",
            "2 | inv_normalize | Normalize | 0     \n",
            "--------------------------------------------\n",
            "0         Trainable params\n",
            "68.9 M    Non-trainable params\n",
            "68.9 M    Total params\n",
            "275.533   Total estimated model params size (MB)\n",
            "Epoch 0:   0% 0/245 [00:00<?, ?it/s] /usr/local/lib/python3.7/dist-packages/pytorch_lightning/utilities/distributed.py:69: UserWarning: training_step returned None. If this was on purpose, ignore this warning...\n",
            "  warnings.warn(*args, **kwargs)\n",
            "Epoch 0: 100% 245/245 [00:58<00:00,  4.19it/s, loss=nan, v_num=1]tcmalloc: large alloc 1180139520 bytes == 0x559f0014e000 @  0x7faa484311e7 0x7fa9f422346e 0x7fa9f4273c7b 0x7fa9f4276e83 0x7fa9f427707b 0x7fa9f4318761 0x559e6404f4b0 0x559e6404f240 0x559e640c30f3 0x559e64050afa 0x559e640c2d00 0x559e64050afa 0x559e640bec0d 0x559e64050afa 0x559e640bec0d 0x559e64050afa 0x559e640bec0d 0x559e64050afa 0x559e640bec0d 0x559e64050afa 0x559e640bec0d 0x559e64050afa 0x559e640bec0d 0x559e64050afa 0x559e640bec0d 0x559e64050afa 0x559e640bec0d 0x559e640bd9ee 0x559e64050bda 0x559e640bec0d 0x559e640bd9ee\n",
            "Getting transformed features...\n",
            "tcmalloc: large alloc 2360279040 bytes == 0x559fa907a000 @  0x7faa484311e7 0x7fa9f422346e 0x7fa9f4273c7b 0x7fa9f4273d97 0x7fa9f4273fe9 0x7fa9f4276d7d 0x7fa9d7c0b570 0x559e6404f437 0x559e6404f240 0x559e640c2973 0x559e64050afa 0x559e640c2d00 0x559e64052b6b 0x559e640947bf 0x559e64172acf 0x559e64138677 0x559e640bfa2e 0x559e64050afa 0x559e640c2d00 0x559e64052b6b 0x559e640947bf 0x559e63fa7695 0x559e64032973 0x559e64033d64 0x559e640c6134 0x559e640bdced 0x559e63f8fe2b 0x559e640bffe4 0x559e640bdced 0x559e64050bda 0x559e640bf737\n",
            "Epoch 0: 100% 245/245 [01:11<00:00,  3.45it/s, loss=nan, v_num=1]Calculating distances...\n",
            "Maximum distance from cluster centers is 1.66\n",
            "initial embedding size :  (192080, 1536)\n",
            "final embedding size :  (192, 1536)\n",
            "Epoch 0: 100% 245/245 [01:48<00:00,  2.25it/s, loss=nan, v_num=1]\n"
          ]
        }
      ]
    },
    {
      "cell_type": "code",
      "metadata": {
        "colab": {
          "base_uri": "https://localhost:8080/"
        },
        "id": "fKZYMk3AnNEf",
        "outputId": "b7e30376-5be6-4ade-f82d-30923e7032d6"
      },
      "source": [
        "!python train.py \\\n",
        "--phase=test \\\n",
        "--dataset_path=/content/PatchCore_anomaly_detection/datasets \\\n",
        "--category=leather \\\n",
        "--project_root_path=/content/drive/MyDrive/patchcore/projection_results \\\n",
        "--n_neighbors=9"
      ],
      "execution_count": null,
      "outputs": [
        {
          "output_type": "stream",
          "name": "stdout",
          "text": [
            "GPU available: True, used: True\n",
            "TPU available: False, using: 0 TPU cores\n",
            "Using cache found in /root/.cache/torch/hub/pytorch_vision_v0.9.0\n",
            "/usr/local/lib/python3.7/dist-packages/torchvision/transforms/transforms.py:258: UserWarning: Argument interpolation should be of type InterpolationMode instead of int. Please, use InterpolationMode enum.\n",
            "  \"Argument interpolation should be of type InterpolationMode instead of int. \"\n",
            "LOCAL_RANK: 0 - CUDA_VISIBLE_DEVICES: [0]\n",
            "Testing: 100% 125/125 [00:25<00:00,  5.28it/s]\n",
            "best threshold=[1.4813491106033325]\n",
            "Testing: 100% 125/125 [00:30<00:00,  4.08it/s]\n",
            "--------------------------------------------------------------------------------\n",
            "DATALOADER:0 TEST RESULTS\n",
            "{}\n",
            "--------------------------------------------------------------------------------\n"
          ]
        }
      ]
    },
    {
      "cell_type": "code",
      "metadata": {
        "id": "w7AE_34O5WIs"
      },
      "source": [
        ""
      ],
      "execution_count": null,
      "outputs": []
    },
    {
      "cell_type": "code",
      "metadata": {
        "id": "sRVhgPNN5WGe"
      },
      "source": [
        ""
      ],
      "execution_count": null,
      "outputs": []
    },
    {
      "cell_type": "code",
      "metadata": {
        "id": "WX7I8GvZ5WEB"
      },
      "source": [
        ""
      ],
      "execution_count": null,
      "outputs": []
    },
    {
      "cell_type": "code",
      "metadata": {
        "id": "Dc2IRtbZuJK1"
      },
      "source": [
        "!python train.py \\\n",
        "--phase=test \\\n",
        "--dataset_path=/content/drive/MyDrive/patchcore/leather/test_img \\\n",
        "--category=leather \\\n",
        "--project_root_path=/content/drive/MyDrive/patchcore/projection_results \\\n",
        "--n_neighbors=9"
      ],
      "execution_count": null,
      "outputs": []
    },
    {
      "cell_type": "code",
      "metadata": {
        "id": "_wQs5shsuJIq"
      },
      "source": [
        ""
      ],
      "execution_count": null,
      "outputs": []
    },
    {
      "cell_type": "code",
      "metadata": {
        "id": "Tf7kiAckuJF9"
      },
      "source": [
        ""
      ],
      "execution_count": null,
      "outputs": []
    },
    {
      "cell_type": "code",
      "metadata": {
        "id": "zGg7z_UmuJAW"
      },
      "source": [
        ""
      ],
      "execution_count": null,
      "outputs": []
    },
    {
      "cell_type": "code",
      "metadata": {
        "id": "-4dptYreaWMV"
      },
      "source": [
        "!python train.py \\\n",
        "--phase=train \\\n",
        "--dataset_path=/content/PatchCore_anomaly_detection/datasets \\\n",
        "--category=bottle \\\n",
        "--project_root_path=/content/drive/MyDrive/patchcore/projection_results \\\n",
        "--coreset_sampling_ratio=0.001 \\\n",
        "--n_neighbors=9"
      ],
      "execution_count": null,
      "outputs": []
    },
    {
      "cell_type": "code",
      "metadata": {
        "id": "hxcYlej5aWJ6"
      },
      "source": [
        "# for fast try just specify your dataset_path and run\n",
        "! python train.py \\\n",
        "--phase=test \\\n",
        "--dataset_path=/content/PatchCore_anomaly_detection/datasets \\\n",
        "--project_root_path=/content/drive/MyDrive/patchcore/projection_results"
      ],
      "execution_count": null,
      "outputs": []
    },
    {
      "cell_type": "code",
      "metadata": {
        "id": "z7NsNqUWaWHN"
      },
      "source": [
        ""
      ],
      "execution_count": null,
      "outputs": []
    }
  ]
}